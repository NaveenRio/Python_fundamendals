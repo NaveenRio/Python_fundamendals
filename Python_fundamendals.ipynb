{
  "nbformat": 4,
  "nbformat_minor": 0,
  "metadata": {
    "colab": {
      "provenance": [],
      "authorship_tag": "ABX9TyO572qqNk6MoK7D6D8qW43T"
    },
    "kernelspec": {
      "name": "python3",
      "display_name": "Python 3"
    },
    "language_info": {
      "name": "python"
    }
  },
  "cells": [
    {
      "cell_type": "code",
      "execution_count": null,
      "metadata": {
        "id": "oSgyXq0msk7y"
      },
      "outputs": [],
      "source": []
    }
  ]
}