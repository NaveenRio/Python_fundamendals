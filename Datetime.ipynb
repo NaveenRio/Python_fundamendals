{
  "nbformat": 4,
  "nbformat_minor": 0,
  "metadata": {
    "colab": {
      "provenance": [],
      "authorship_tag": "ABX9TyNtWP6M+8YkSfQj6LbWbOS5",
      "include_colab_link": true
    },
    "kernelspec": {
      "name": "python3",
      "display_name": "Python 3"
    },
    "language_info": {
      "name": "python"
    }
  },
  "cells": [
    {
      "cell_type": "markdown",
      "metadata": {
        "id": "view-in-github",
        "colab_type": "text"
      },
      "source": [
        "<a href=\"https://colab.research.google.com/github/NaveenRio/Python_fundamendals/blob/main/Datetime.ipynb\" target=\"_parent\"><img src=\"https://colab.research.google.com/assets/colab-badge.svg\" alt=\"Open In Colab\"/></a>"
      ]
    },
    {
      "cell_type": "code",
      "execution_count": 3,
      "metadata": {
        "colab": {
          "base_uri": "https://localhost:8080/"
        },
        "id": "rYJr-ZXyCkKl",
        "outputId": "c19c5b1f-c882-483c-c42d-5065d537b1da"
      },
      "outputs": [
        {
          "output_type": "stream",
          "name": "stdout",
          "text": [
            "2023-08-07 13:53:18.323581\n",
            "2023\n",
            "Monday\n"
          ]
        }
      ],
      "source": [
        "#Import datetime module and display current datrtime module\n",
        "import datetime\n",
        "\n",
        "x = datetime.datetime.now()\n",
        "print(x)\n",
        "\n",
        "# To get teturn vale of year and name of the weekday\n",
        "\n",
        "x = datetime.datetime.now()\n",
        "\n",
        "print(x.year)\n",
        "print(x.strftime(\"%A\"))\n",
        "\n"
      ]
    }
  ]
}