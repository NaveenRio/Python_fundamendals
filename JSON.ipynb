{
  "nbformat": 4,
  "nbformat_minor": 0,
  "metadata": {
    "colab": {
      "provenance": [],
      "authorship_tag": "ABX9TyM/n5PwlbeKLSi5HppwnxDZ",
      "include_colab_link": true
    },
    "kernelspec": {
      "name": "python3",
      "display_name": "Python 3"
    },
    "language_info": {
      "name": "python"
    }
  },
  "cells": [
    {
      "cell_type": "markdown",
      "metadata": {
        "id": "view-in-github",
        "colab_type": "text"
      },
      "source": [
        "<a href=\"https://colab.research.google.com/github/NaveenRio/Python_fundamendals/blob/main/JSON.ipynb\" target=\"_parent\"><img src=\"https://colab.research.google.com/assets/colab-badge.svg\" alt=\"Open In Colab\"/></a>"
      ]
    },
    {
      "cell_type": "code",
      "execution_count": 1,
      "metadata": {
        "colab": {
          "base_uri": "https://localhost:8080/"
        },
        "id": "eAMlgxBDHSm_",
        "outputId": "ed999c5b-5173-45a3-ba98-4120650f452a"
      },
      "outputs": [
        {
          "output_type": "stream",
          "name": "stdout",
          "text": [
            "45\n",
            "{\"name\": \"Fabio\", \"age\": 32, \"city\": \"Paris\"}\n"
          ]
        }
      ],
      "source": [
        "\n",
        "import json\n",
        "# Code to convert JSON to Python\n",
        "# In JSON:\n",
        "x = '{ \"name\":\"Jack\", \"age\":45, \"city\":\"New York\"}'\n",
        "\n",
        "# parse x:\n",
        "y = json.loads(x)\n",
        "\n",
        "# Results Python dictionary:\n",
        "print(y[\"age\"])\n",
        "\n",
        "# Conversion of Python to  JSON\n",
        "# a Python object (dict):\n",
        "x = {\n",
        "  \"name\": \"Fabio\",\n",
        "  \"age\": 32,\n",
        "  \"city\": \"Paris\"\n",
        "}\n",
        "\n",
        "# convert into JSON:\n",
        "y = json.dumps(x)\n",
        "\n",
        "# the result is a JSON string:\n",
        "print(y)"
      ]
    }
  ]
}