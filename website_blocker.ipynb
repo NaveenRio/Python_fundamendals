{
  "nbformat": 4,
  "nbformat_minor": 0,
  "metadata": {
    "colab": {
      "provenance": [],
      "authorship_tag": "ABX9TyPaZE7n+GBGNEHTkV7PCK5/",
      "include_colab_link": true
    },
    "kernelspec": {
      "name": "python3",
      "display_name": "Python 3"
    },
    "language_info": {
      "name": "python"
    }
  },
  "cells": [
    {
      "cell_type": "markdown",
      "metadata": {
        "id": "view-in-github",
        "colab_type": "text"
      },
      "source": [
        "<a href=\"https://colab.research.google.com/github/NaveenRio/Python_fundamendals/blob/main/website_blocker.ipynb\" target=\"_parent\"><img src=\"https://colab.research.google.com/assets/colab-badge.svg\" alt=\"Open In Colab\"/></a>"
      ]
    },
    {
      "cell_type": "code",
      "execution_count": null,
      "metadata": {
        "id": "7kAg1eoow9iu"
      },
      "outputs": [],
      "source": []
    },
    {
      "cell_type": "code",
      "source": [
        "import time\n",
        "from datetime import datetime as dt\n",
        "import os\n",
        "\n",
        "#Enter the site name which you want to block\n",
        "sites_to_block = [\n",
        "    \"www.facebook.com\",\n",
        "    \"facebook.com\",\n",
        "    \"www.youtube.com\",\n",
        "    \"youtube.com\",\n",
        "    \"www.gmail.com\",\n",
        "    \"gmail.com\"\n",
        "]\n",
        "\n",
        "#different hosts for different os\n",
        "Linux_host = \"/etc/hosts\"\n",
        "Window_host = r\"C:\\Windows\\System32\\drivers\\etc\\hosts\"\n",
        "default_hoster = Linux_host # if you are on windows then change t to window_host\n",
        "redirect = \"127.0.0.1\"\n",
        "\n",
        "if os.name == 'posix':\n",
        "  default_hoster = Linux_host\n",
        "\n",
        "elif os.name == 'nt':\n",
        "  default_hoster = Window_host\n",
        "else:\n",
        "     print(\"OS unknown\")\n",
        "     exit()\n",
        "\n",
        "\n",
        "     def block_websites(start_hour, end_hour):\n",
        "         while True:\n",
        "             try:\n",
        "                 if (\n",
        "                         dt(dt.now().year, dt.now().month, dt.now().day, start_hour)\n",
        "                         < dt.now()\n",
        "                         <dt(dt.now().year, dt.now().month, dt.now().day, end_hour)\n",
        "                 ):\n",
        "                    print(\"Do the work ....\")\n",
        "                    with open(default_hoster, \"r+\") as hostfile:\n",
        "                        hosts = hostfile.read()\n",
        "                        for site in sites_to_block:\n",
        "                            if site not in hosts:\n",
        "                                hostfile.write(redirect + \" \" + site + \"\\n\")\n",
        "                 else:\n",
        "                      with open(default_hoster, \"r+\") as hostfile:\n",
        "                          hosts = hostfile.readlines()\n",
        "                          hostfile.seek(0)\n",
        "                          for host in hosts:\n",
        "                              if host in hosts:\n",
        "                                 if not any(site in host for site in sites_to_block):\n",
        "                                     hostfile.write(host)\n",
        "                          hostfile.truncate()\n",
        "                      print(\"Good Time\")\n",
        "                      time.sleep(3)\n",
        "                    except PermissionError as e:\n",
        "                      print(f\"Caught a permission error: Try Running as Admin {e}\")\n",
        "                      break\n",
        "                      if __name__ ==\"__main__ \":\n",
        "                        block_websites(9, 21)"
      ],
      "metadata": {
        "colab": {
          "base_uri": "https://localhost:8080/",
          "height": 130
        },
        "id": "MrIl2dVlxBFY",
        "outputId": "69005aec-2282-4381-95bc-0131ed2e5a2e"
      },
      "execution_count": null,
      "outputs": [
        {
          "output_type": "error",
          "ename": "IndentationError",
          "evalue": "ignored",
          "traceback": [
            "\u001b[0;36m  File \u001b[0;32m\"<tokenize>\"\u001b[0;36m, line \u001b[0;32m56\u001b[0m\n\u001b[0;31m    except PermissionError as e:\u001b[0m\n\u001b[0m    ^\u001b[0m\n\u001b[0;31mIndentationError\u001b[0m\u001b[0;31m:\u001b[0m unindent does not match any outer indentation level\n"
          ]
        }
      ]
    }
  ]
}